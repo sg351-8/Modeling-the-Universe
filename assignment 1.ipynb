{
 "cells": [
  {
   "cell_type": "markdown",
   "metadata": {},
   "source": [
    "**Sarah Graber**<br>\n",
    "sg3518<br>\n",
    "Assignment 1<br>\n",
    "Collaborators: Emily Zhang"
   ]
  },
  {
   "cell_type": "code",
   "execution_count": 1,
   "metadata": {},
   "outputs": [],
   "source": [
    "import math\n",
    "import numpy as np"
   ]
  },
  {
   "cell_type": "markdown",
   "metadata": {},
   "source": [
    "## Problem 1"
   ]
  },
  {
   "cell_type": "code",
   "execution_count": 41,
   "metadata": {},
   "outputs": [
    {
     "name": "stdout",
     "output_type": "stream",
     "text": [
      "x= 1.0 , ln(x)= 0.0\n",
      "x= 1.5 , ln(x)= 0.4054651081081644\n",
      "x= 2.0 , ln(x)= 0.6931471805599453\n",
      "x= 2.5 , ln(x)= 0.9162907318741551\n",
      "x= 3.0 , ln(x)= 1.0986122886681098\n",
      "x= 3.5 , ln(x)= 1.252762968495368\n",
      "x= 4.0 , ln(x)= 1.3862943611198906\n",
      "x= 4.5 , ln(x)= 1.5040773967762742\n",
      "x= 5.0 , ln(x)= 1.6094379124341003\n",
      "x= 5.5 , ln(x)= 1.7047480922384253\n",
      "x= 6.0 , ln(x)= 1.791759469228055\n",
      "x= 6.5 , ln(x)= 1.8718021769015913\n",
      "x= 7.0 , ln(x)= 1.9459101490553132\n",
      "x= 7.5 , ln(x)= 2.0149030205422647\n",
      "x= 8.0 , ln(x)= 2.0794415416798357\n",
      "x= 8.5 , ln(x)= 2.1400661634962708\n",
      "x= 9.0 , ln(x)= 2.1972245773362196\n",
      "x= 9.5 , ln(x)= 2.2512917986064953\n",
      "x= 10.0 , ln(x)= 2.302585092994046\n"
     ]
    }
   ],
   "source": [
    "# print x and ln(x) as x goes from 1->10 in steps of 0.5\n",
    "x=1.0\n",
    "while x < 10.5:\n",
    "    print(\"x=\", x, \", ln(x)=\", np.log(x))\n",
    "    x=x+.5\n",
    "    \n",
    "del x # so i can use 'x' in another problem"
   ]
  },
  {
   "cell_type": "markdown",
   "metadata": {},
   "source": [
    "## Problem 2"
   ]
  },
  {
   "cell_type": "code",
   "execution_count": 33,
   "metadata": {},
   "outputs": [],
   "source": [
    "def Flux(p,z):\n",
    "    \n",
    "    # first make sure z is taken as the absolute value\n",
    "    z=abs(z)\n",
    "    \n",
    "    # lambda partial function; different function for different values of z\n",
    "    if (1+p)<z:\n",
    "        lamda=0    #misspelled lambda bc the correct spelling is some native python function\n",
    "    elif abs(1.-p)<z and z<=(1.+p):\n",
    "        # define kappa 0 and 1 wrt p,z\n",
    "        kap1 = math.acos( (1 - p**2 + z**2) / (2 * z) )\n",
    "        kap0 = math.acos((p**2+z**2-1)/(2*p*z))\n",
    "        lamda=(1/math.pi)*(p**2 * kap0 + kap1 - math.sqrt((4*z**2 - (1+z**2 -p**2)**2)/4))\n",
    "    elif z<=(1.-p):\n",
    "        lamda=p**2\n",
    "    elif z<= (p-1):\n",
    "        lamda=1\n",
    "        \n",
    "    #final observed flux wrt unobscured flux\n",
    "    return(1 - lamda)"
   ]
  },
  {
   "cell_type": "code",
   "execution_count": 40,
   "metadata": {},
   "outputs": [
    {
     "name": "stdout",
     "output_type": "stream",
     "text": [
      "i= -1.2 Flux= 1.0\n",
      "i= -1.15 Flux= 0.997335263983016\n",
      "i= -1.1 Flux= 0.9926934503699995\n",
      "i= -1.05 Flux= 0.987042673242156\n",
      "i= -1.0 Flux= 0.9808496779305925\n",
      "i= -0.95 Flux= 0.9745022090966324\n",
      "i= -0.9 Flux= 0.9684170049114547\n",
      "i= -0.85 Flux= 0.9631632627651049\n",
      "i= -0.8 Flux= 0.96\n",
      "i= -0.75 Flux= 0.96\n",
      "i= -0.7 Flux= 0.96\n",
      "i= -0.65 Flux= 0.96\n",
      "i= -0.6 Flux= 0.96\n",
      "i= -0.55 Flux= 0.96\n",
      "i= -0.5 Flux= 0.96\n",
      "i= -0.45 Flux= 0.96\n",
      "i= -0.4 Flux= 0.96\n",
      "i= -0.35 Flux= 0.96\n",
      "i= -0.3 Flux= 0.96\n",
      "i= -0.25 Flux= 0.96\n",
      "i= -0.2 Flux= 0.96\n",
      "i= -0.15 Flux= 0.96\n",
      "i= -0.1 Flux= 0.96\n",
      "i= -0.05 Flux= 0.96\n",
      "i= 0.0 Flux= 0.96\n",
      "i= 0.05 Flux= 0.96\n",
      "i= 0.1 Flux= 0.96\n",
      "i= 0.15 Flux= 0.96\n",
      "i= 0.2 Flux= 0.96\n",
      "i= 0.25 Flux= 0.96\n",
      "i= 0.3 Flux= 0.96\n",
      "i= 0.35 Flux= 0.96\n",
      "i= 0.4 Flux= 0.96\n",
      "i= 0.45 Flux= 0.96\n",
      "i= 0.5 Flux= 0.96\n",
      "i= 0.55 Flux= 0.96\n",
      "i= 0.6 Flux= 0.96\n",
      "i= 0.65 Flux= 0.96\n",
      "i= 0.7 Flux= 0.96\n",
      "i= 0.75 Flux= 0.96\n",
      "i= 0.8 Flux= 0.96\n",
      "i= 0.85 Flux= 0.963163262765105\n",
      "i= 0.9 Flux= 0.9684170049114547\n",
      "i= 0.95 Flux= 0.9745022090966324\n",
      "i= 1.0 Flux= 0.9808496779305925\n",
      "i= 1.05 Flux= 0.987042673242156\n",
      "i= 1.1 Flux= 0.9926934503699995\n",
      "i= 1.15 Flux= 0.9973352639830159\n",
      "i= 1.2 Flux= 1.0\n"
     ]
    }
   ],
   "source": [
    "# print observed flux wrt unobscured flux for p = 0.2, z going from -1.2 to 1.2 in steps of 0.05 (for a total of 49 steps)\n",
    "for i in np.linspace(-1.2,1.2,49):\n",
    "    print(\"i=\", np.round(i, 3), \"Flux=\", Flux(0.2,i))"
   ]
  },
  {
   "cell_type": "markdown",
   "metadata": {},
   "source": [
    "## Problem 3"
   ]
  },
  {
   "cell_type": "code",
   "execution_count": 1,
   "metadata": {},
   "outputs": [],
   "source": [
    "def integral(lowbound, upbound, N):\n",
    "    \"\"\"gives the integral of sin(x) with givens: lower bound, upper bound, number of rectangles\"\"\"\n",
    "   \n",
    "    # steps through the given bounds in N steps, finds the area of each rectangle, sums them\n",
    "    sum=0\n",
    "    for x in np.linspace(lowbound, upbound, N):\n",
    "        height = math.sin(x)\n",
    "        width = ((upbound-lowbound)/N)\n",
    "        sum = sum + height*width\n",
    "    return sum"
   ]
  },
  {
   "cell_type": "code",
   "execution_count": 118,
   "metadata": {},
   "outputs": [
    {
     "name": "stdout",
     "output_type": "stream",
     "text": [
      "N= 10 , integral= 0.976254024952298\n",
      "N= 100 , integral= 0.9978332121772983\n",
      "N= 1000 , integral= 0.9997851923408084\n",
      "N= 10000 , integral= 0.9999785377599688\n",
      "N= 100000 , integral= 0.9999978539610729\n"
     ]
    }
   ],
   "source": [
    "# applying the integral function for each power of 10\n",
    "intervals = [10,100,1000,10000,100000]\n",
    "for i in intervals:\n",
    "    print(\"N=\",i,\", integral=\",integral(0,math.pi/2,i))"
   ]
  },
  {
   "cell_type": "markdown",
   "metadata": {},
   "source": [
    "**compare to analytic solution:**"
   ]
  },
  {
   "cell_type": "code",
   "execution_count": 120,
   "metadata": {},
   "outputs": [
    {
     "name": "stdout",
     "output_type": "stream",
     "text": [
      "N= 10 , fractional error= 0.02374597504770204\n",
      "N= 100 , fractional error= 0.0021667878227017434\n",
      "N= 1000 , fractional error= 0.00021480765919157374\n",
      "N= 10000 , fractional error= 2.146224003118924e-05\n",
      "N= 100000 , fractional error= 2.146038927119953e-06\n"
     ]
    }
   ],
   "source": [
    "# i know the analytic result for integral of sin(x) from 0 to pi/2 is 1\n",
    "\n",
    "# now just find the fractional error ((true - estimate)/true) for each N\n",
    "intervals = [10,100,1000,10000,100000]\n",
    "for i in intervals:\n",
    "    error = abs((integral(0,math.pi/2,i))-1)/1\n",
    "    print(\"N=\",i,\", fractional error=\",error)"
   ]
  }
 ],
 "metadata": {
  "kernelspec": {
   "display_name": "Python 3",
   "language": "python",
   "name": "python3"
  },
  "language_info": {
   "codemirror_mode": {
    "name": "ipython",
    "version": 3
   },
   "file_extension": ".py",
   "mimetype": "text/x-python",
   "name": "python",
   "nbconvert_exporter": "python",
   "pygments_lexer": "ipython3",
   "version": "3.7.3"
  }
 },
 "nbformat": 4,
 "nbformat_minor": 2
}
