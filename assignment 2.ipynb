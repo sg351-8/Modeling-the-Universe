{
 "cells": [
  {
   "cell_type": "markdown",
   "metadata": {},
   "source": [
    "**Sarah Graber**<br>\n",
    "sg3518<br>\n",
    "Assignment 2<br>\n",
    "Collaborators: Emily Zhang"
   ]
  },
  {
   "cell_type": "code",
   "execution_count": 123,
   "metadata": {},
   "outputs": [],
   "source": [
    "import math\n",
    "import numpy as np\n",
    "import random"
   ]
  },
  {
   "cell_type": "markdown",
   "metadata": {},
   "source": [
    "## Problem 1\n",
    "using trapezoidal rule"
   ]
  },
  {
   "cell_type": "code",
   "execution_count": 124,
   "metadata": {},
   "outputs": [
    {
     "data": {
      "text/plain": [
       "0.9979429863543573"
      ]
     },
     "execution_count": 124,
     "metadata": {},
     "output_type": "execute_result"
    }
   ],
   "source": [
    "def integraltr(func, lowbound, upbound, N):\n",
    "    \"\"\"gives the integral of sin(x) with givens: lower bound, upper bound, number of rectangles\"\"\"\n",
    "   \n",
    "    # steps through the given bounds in N steps, finds the area of each rectangle + each trapezoid, sums them\n",
    "    sum=0\n",
    "    for x in np.linspace(lowbound, upbound, N, endpoint=False):\n",
    "        width = ((upbound-lowbound)/N)\n",
    "        height_rectangle = func(x)\n",
    "        height_trapezoid = func(x+width)\n",
    "        rectangle_trapezoid = (height_rectangle*width) + (((height_trapezoid - height_rectangle) * width) / 2)\n",
    "        sum = sum + rectangle_trapezoid\n",
    "    return sum\n",
    "\n",
    "integraltr(math.sin,0,math.pi/2,10)"
   ]
  },
  {
   "cell_type": "code",
   "execution_count": 125,
   "metadata": {},
   "outputs": [
    {
     "name": "stdout",
     "output_type": "stream",
     "text": [
      "N= 10 , integral= 0.9979429863543573 , fractional error= 0.0020570136456427024\n",
      "N= 100 , integral= 0.9999794382396072 , fractional error= 2.0561760392778794e-05\n",
      "N= 1000 , integral= 0.9999997943832338 , fractional error= 2.0561676616903668e-07\n",
      "N= 10000 , integral= 0.9999999979438333 , fractional error= 2.056166681363436e-09\n",
      "N= 100000 , integral= 0.9999999999794249 , fractional error= 2.057509718156325e-11\n",
      "\n",
      "error decreases 10x as fast as with the rectangle rule!\n"
     ]
    }
   ],
   "source": [
    "# applying the integral function for each power of 10\n",
    "intervals = [10,100,1000,10000,100000]\n",
    "for i in intervals:\n",
    "    error = abs((integraltr(math.sin,0,math.pi/2,i))-1)/1\n",
    "    print(\"N=\",i,\", integral=\",integraltr(math.sin,0,math.pi/2,i), \", fractional error=\",error)\n",
    "    \n",
    "print(\"\")\n",
    "print(\"error decreases 10x as fast as with the rectangle rule!\")"
   ]
  },
  {
   "cell_type": "markdown",
   "metadata": {},
   "source": [
    "## Problem 2"
   ]
  },
  {
   "cell_type": "code",
   "execution_count": 53,
   "metadata": {},
   "outputs": [],
   "source": [
    "def Flux(p,z,N):\n",
    "    '''gives the ratio of obscured to unobscured flux of a star during planetary transit w/ limb darkening'''\n",
    "    \n",
    "    def I(r):\n",
    "        '''limb darkening parameter'''\n",
    "        return 1\n",
    "        \n",
    "    # defining the denominator of the formula\n",
    "    def dformula(r):\n",
    "        '''function to multiply a variable by 2 * I'''\n",
    "        return 2*r*I(r)\n",
    "    \n",
    "    denom = integraltr(dformula,0,1,N)\n",
    "    \n",
    "    # defining the numerator of the formula\n",
    "    def nformula(r):\n",
    "        '''function to multiply a variable by 2 * (1-delta) * I'''\n",
    "        \n",
    "        # delta partial function; different function for different values of z\n",
    "        if r>=(z+p) or r<=(z-p):\n",
    "            delta=0\n",
    "        elif (r+z)<=p:\n",
    "            delta=1\n",
    "        else:\n",
    "            delta=(math.pi)**(-1)*np.arccos((z**2 - p**2 + r**2)/(2*z*r))\n",
    "            \n",
    "        return (1-delta)*2*r*I(r)\n",
    "    \n",
    "    num = integraltr(nformula,0,1,N)\n",
    "    \n",
    "    flx = num / denom\n",
    "    \n",
    "    return flx"
   ]
  },
  {
   "cell_type": "code",
   "execution_count": 57,
   "metadata": {},
   "outputs": [],
   "source": [
    "# flux formula copied from assignment 1 for comparison; no limb-darkening parameter\n",
    "def Flux_old(p,z):\n",
    "    \n",
    "    # first make sure z is taken as the absolute value\n",
    "    z=abs(z)\n",
    "    \n",
    "    # lambda partial function; different function for different values of z\n",
    "    if (1+p)<z:\n",
    "        lamda=0    #misspelled lambda bc the correct spelling is some native python function\n",
    "    elif abs(1.-p)<z and z<=(1.+p):\n",
    "        # define kappa 0 and 1 wrt p,z\n",
    "        kap1 = math.acos( (1 - p**2 + z**2) / (2 * z) )\n",
    "        kap0 = math.acos((p**2+z**2-1)/(2*p*z))\n",
    "        lamda=(1/math.pi)*(p**2 * kap0 + kap1 - math.sqrt((4*z**2 - (1+z**2 -p**2)**2)/4))\n",
    "    elif z<=(1.-p):\n",
    "        lamda=p**2\n",
    "    elif z<= (p-1):\n",
    "        lamda=1\n",
    "        \n",
    "    #final observed flux wrt unobscured flux\n",
    "    return(1 - lamda)"
   ]
  },
  {
   "cell_type": "code",
   "execution_count": 73,
   "metadata": {},
   "outputs": [
    {
     "name": "stdout",
     "output_type": "stream",
     "text": [
      "N = 10 , Flux = 0.971007549763638 , fractional error = 0.002675030321695045\n",
      "N = 100 , Flux = 0.9684935353994175 , fractional error = 7.90263776602542e-05\n",
      "N = 1000 , Flux = 0.9684193666885152 , fractional error = 2.43880172332759e-06\n",
      "N = 10000 , Flux = 0.9684170790050751 , fractional error = 7.651003645587889e-08\n",
      "N = 100000 , Flux = 0.968417007248545 , fractional error = 2.4133097376334382e-09\n"
     ]
    }
   ],
   "source": [
    "# applying the Flux function integrated for each power of 10\n",
    "intervals = [10,100,1000,10000,100000]\n",
    "for i in intervals:\n",
    "    error = abs((Flux_old(0.2,0.9))-Flux(0.2,0.9,i))/Flux_old(0.2,0.9)\n",
    "    print(\"N =\",i,\", Flux =\",Flux(0.2,0.9,i), \", fractional error =\",error)"
   ]
  },
  {
   "cell_type": "markdown",
   "metadata": {},
   "source": [
    "## Problem 3"
   ]
  },
  {
   "cell_type": "code",
   "execution_count": 109,
   "metadata": {},
   "outputs": [],
   "source": [
    "def MonteCarlo_Flux(p,z,N):\n",
    "    '''gives ratio of obscured flux to unobscured flux during planetary transit by the monte-carlo integration method'''\n",
    "    \n",
    "    N1=0 # number of 'accepted' points that fall inside the unit circle\n",
    "    N2=0 # number of points that fall inside the circle of the planet\n",
    "    \n",
    "    i=0\n",
    "    while i < N:\n",
    "        x = random.uniform(-1,1)\n",
    "        y = random.uniform(-1,1)\n",
    "    \n",
    "        if (x**2+y**2)<1:\n",
    "            N1=N1+1\n",
    "        if ((x-z)**2+y**2)<p**2:\n",
    "            N2=N2+1\n",
    "        i=i+1\n",
    "        \n",
    "    flx = (N1 - N2)/N1\n",
    "    return flx"
   ]
  },
  {
   "cell_type": "code",
   "execution_count": 122,
   "metadata": {},
   "outputs": [
    {
     "name": "stdout",
     "output_type": "stream",
     "text": [
      "N = 10 , Flux = 1.0 , fractional error = 0.03261301167613528\n",
      "N = 100 , Flux = 0.9736842105263158 , fractional error = 0.023968523210228295\n",
      "N = 1000 , Flux = 0.9613466334164589 , fractional error = 0.001082843380680713\n",
      "N = 10000 , Flux = 0.9663091482649843 , fractional error = 0.0007223874854566719\n",
      "N = 100000 , Flux = 0.9669149952244508 , fractional error = 0.0002555859886556292\n",
      "\n",
      "This is a low-order integration method\n"
     ]
    }
   ],
   "source": [
    "# applying the Monte-Carlo Flux function integrated for each power of 10\n",
    "intervals = [10,100,1000,10000,100000]\n",
    "for i in intervals:\n",
    "    error = abs((Flux_old(0.2,0.9))-MonteCarlo_Flux(0.2,0.9,i))/Flux_old(0.2,0.9)\n",
    "    print(\"N =\",i,\", Flux =\",MonteCarlo_Flux(0.2,0.9,i), \", fractional error =\",error)\n",
    "    \n",
    "print(\"\")\n",
    "print(\"This is a low-order integration method\")"
   ]
  }
 ],
 "metadata": {
  "kernelspec": {
   "display_name": "Python 3",
   "language": "python",
   "name": "python3"
  },
  "language_info": {
   "codemirror_mode": {
    "name": "ipython",
    "version": 3
   },
   "file_extension": ".py",
   "mimetype": "text/x-python",
   "name": "python",
   "nbconvert_exporter": "python",
   "pygments_lexer": "ipython3",
   "version": "3.7.3"
  }
 },
 "nbformat": 4,
 "nbformat_minor": 2
}
